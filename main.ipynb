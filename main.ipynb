{
 "cells": [
  {
   "cell_type": "code",
   "execution_count": 1,
   "metadata": {
    "collapsed": true
   },
   "outputs": [],
   "source": [
    "import pandas as pd\n",
    "\n",
    "from os.path import join\n",
    "\n",
    "from transformers import BertTokenizerFast\n",
    "import matplotlib.pyplot as plt\n",
    "\n",
    "from inference import inference"
   ]
  },
  {
   "cell_type": "code",
   "execution_count": 2,
   "outputs": [
    {
     "data": {
      "text/plain": "                                            sentence  label\n0  Срыв сроков строительства зоопарка оценили в 1...      1\n1  По данным Генпрокуратуры РФ, в 2014-2018 годах...      1\n2  Обвиняли в этом столичный акимат, который сорв...      1\n3  Запуск циклотронного центра ядерной медицины н...      1\n4    Сроки сдачи объекта несколько раз переносились.      1",
      "text/html": "<div>\n<style scoped>\n    .dataframe tbody tr th:only-of-type {\n        vertical-align: middle;\n    }\n\n    .dataframe tbody tr th {\n        vertical-align: top;\n    }\n\n    .dataframe thead th {\n        text-align: right;\n    }\n</style>\n<table border=\"1\" class=\"dataframe\">\n  <thead>\n    <tr style=\"text-align: right;\">\n      <th></th>\n      <th>sentence</th>\n      <th>label</th>\n    </tr>\n  </thead>\n  <tbody>\n    <tr>\n      <th>0</th>\n      <td>Срыв сроков строительства зоопарка оценили в 1...</td>\n      <td>1</td>\n    </tr>\n    <tr>\n      <th>1</th>\n      <td>По данным Генпрокуратуры РФ, в 2014-2018 годах...</td>\n      <td>1</td>\n    </tr>\n    <tr>\n      <th>2</th>\n      <td>Обвиняли в этом столичный акимат, который сорв...</td>\n      <td>1</td>\n    </tr>\n    <tr>\n      <th>3</th>\n      <td>Запуск циклотронного центра ядерной медицины н...</td>\n      <td>1</td>\n    </tr>\n    <tr>\n      <th>4</th>\n      <td>Сроки сдачи объекта несколько раз переносились.</td>\n      <td>1</td>\n    </tr>\n  </tbody>\n</table>\n</div>"
     },
     "execution_count": 2,
     "metadata": {},
     "output_type": "execute_result"
    }
   ],
   "source": [
    "data = pd.read_csv(join('data', 'train_data.csv'), index_col=\"Unnamed: 0\")\n",
    "data.head()"
   ],
   "metadata": {
    "collapsed": false,
    "pycharm": {
     "name": "#%%\n"
    }
   }
  },
  {
   "cell_type": "code",
   "execution_count": 3,
   "outputs": [
    {
     "name": "stdout",
     "output_type": "stream",
     "text": [
      "— На доме № 6 коробка готова полностью, витражи готовы на 50%, смонтированы лифты. \n",
      "\n",
      "Он отметил, что срок исполнения контракта - 1 октября, однако подрядчик планирует завершить работы на две недели раньше - к 15 сентября. \n",
      "\n",
      "Из-за ремонта и гидравлических испытаний больше тысячи домов во Владивостоке остаются без горячей воды Во Владивостоке на сегодняшний день 1059 домов остаются без горячего водоснабжения. \n",
      "\n",
      "Последнее планировали завершить раньше, однако из-за высокой обводненности грунта работы затянулись, но даже при таких условиях подрядчик готов сдать объект до 1 сентября - на месяц раньше срока, установленного контрактом, сообщает пресс-служба правительства Амурской области. \n",
      "\n",
      "Чтобы убедиться в том, какие работы ведутся на доме, один из дольщиков в начале марта отправился в новостройку и снял видео. \n",
      "\n",
      "\"В основном это проблемные дома, завершение которых уже находится на особом контроле правительства города и комитета\", – сообщили \"Фонтанке\" в комстрое. \n",
      "\n",
      "Заместитель директора службы правовой поддержки «Олимп» Марина Алексеева не видит ничего удивительного в том, что в Арбитражном суде Пензенской области сойдутся в споре два структурных подразделения мэрии. \n",
      "\n",
      "Дома остаются недостроенными. \n",
      "\n",
      "Например, покупатели квартир в жилом комплексе «Бриз» уже год ждут заселения и утверждают, что никаких работ на площадке не ведётся. \n",
      "\n",
      "«Информированность дольщиков ЖК «Андерсен» о ситуации на стройплощадке должна быть максимально высокой», - подчеркнул он. \n",
      "\n"
     ]
    }
   ],
   "source": [
    "for row in data[data.label == 0].sample(10)['sentence']:\n",
    "    print(row,'\\n')"
   ],
   "metadata": {
    "collapsed": false,
    "pycharm": {
     "name": "#%%\n"
    }
   }
  },
  {
   "cell_type": "code",
   "execution_count": 4,
   "outputs": [
    {
     "name": "stdout",
     "output_type": "stream",
     "text": [
      "Согласно договору, сдать дом обещали к маю 2018 года, потом — к ноябрю того же года. \n",
      "\n",
      "Изначально ввод участков в эксплуатацию был запланирован на 2018 год, однако сроки неоднократно переносили: сначала на 2019 год, а затем на 2020 год. \n",
      "\n",
      "С другой стороны, если признать Низовского правым сейчас, ввод в эксплуатацию даже при лучшем стечении обстоятельств растянется годика на два. \n",
      "\n",
      "— Насколько мне известно, завершение строительства ТРЦ планировалось в первом квартале 2019 года. \n",
      "\n",
      "По словам представителя пресс-службы, перенос сроков связан не с задержкой ввода домов в эксплуатацию, а с истечением срока полученных компанией разрешений на строительство. \n",
      "\n",
      "«К сожалению, строители пока задерживают ввод в эксплуатацию здания школы. \n",
      "\n",
      "Как пояснил начальник департамента строительного надзора Геннадий Наумов, значительные задержки в строительстве спортзала связаны с недобросовестностью подрядчиков, а также – с пробуксовкой заказчика – МКУ «Строитель». \n",
      "\n",
      "Алексей Текслер раскритиковал руководство Усть-Катава за срыв сроков реконструкции школы\n",
      "Работы в общеобразовательной школе №4 обещали закончить в июле, однако по факту реконструкция входной группы и возведение пристроя все еще не завершены, хотя до начала учебного года осталось меньше месяца. \n",
      "\n",
      "Причинами задержки возобновления строительства является необходимость в продлении срока действия договора аренды земельного участка и разрешения на строительство, а также проведение мероприятий, связанных с созданием жилищно-строительного кооператива. \n",
      "\n",
      "«Нацимбио» не завершила строительство завода «Киров Плазма» к концу 2018 года без привлечения средств федерального бюджета, что было одним из условий для получения статуса поставщика: срок был перенесен на конец 2019 года. \n",
      "\n"
     ]
    }
   ],
   "source": [
    "for row in data[data.label == 1].sample(10)['sentence']:\n",
    "    print(row,'\\n')"
   ],
   "metadata": {
    "collapsed": false,
    "pycharm": {
     "name": "#%%\n"
    }
   }
  },
  {
   "cell_type": "code",
   "execution_count": 5,
   "outputs": [
    {
     "data": {
      "text/plain": "label\n0    1340\n1     329\nName: label, dtype: int64"
     },
     "execution_count": 5,
     "metadata": {},
     "output_type": "execute_result"
    }
   ],
   "source": [
    "data.groupby('label')['label'].count()"
   ],
   "metadata": {
    "collapsed": false,
    "pycharm": {
     "name": "#%%\n"
    }
   }
  },
  {
   "cell_type": "code",
   "execution_count": 5,
   "outputs": [],
   "source": [],
   "metadata": {
    "collapsed": false,
    "pycharm": {
     "name": "#%%\n"
    }
   }
  },
  {
   "cell_type": "code",
   "execution_count": 6,
   "outputs": [],
   "source": [
    "tokenizer = BertTokenizerFast.from_pretrained('DeepPavlov/rubert-base-cased')"
   ],
   "metadata": {
    "collapsed": false,
    "pycharm": {
     "name": "#%%\n"
    }
   }
  },
  {
   "cell_type": "code",
   "execution_count": 7,
   "outputs": [],
   "source": [
    "texts = data.sentence"
   ],
   "metadata": {
    "collapsed": false,
    "pycharm": {
     "name": "#%%\n"
    }
   }
  },
  {
   "cell_type": "code",
   "execution_count": 8,
   "outputs": [
    {
     "data": {
      "text/plain": "<Figure size 432x288 with 1 Axes>",
      "image/png": "[encoded data removed]"
     },
     "metadata": {
      "needs_background": "light"
     },
     "output_type": "display_data"
    }
   ],
   "source": [
    "tokens_lens = [len(tokenizer.encode(el)) for el in texts]\n",
    "plt.hist(tokens_lens, bins=50);"
   ],
   "metadata": {
    "collapsed": false,
    "pycharm": {
     "name": "#%%\n"
    }
   }
  },
  {
   "cell_type": "code",
   "execution_count": 9,
   "outputs": [
    {
     "name": "stderr",
     "output_type": "stream",
     "text": [
      "100%|██████████| 9/9 [00:01<00:00,  6.55it/s]\n"
     ]
    },
    {
     "name": "stdout",
     "output_type": "stream",
     "text": [
      "Score: 0.8108108108108107, loss: 0.24248038232326508\n"
     ]
    },
    {
     "data": {
      "text/plain": "  0%|          | 0/10570 [00:00<?, ?it/s]",
      "application/vnd.jupyter.widget-view+json": {
       "version_major": 2,
       "version_minor": 0,
       "model_id": "f05755146d844819a901336cd43b0b88"
      }
     },
     "metadata": {},
     "output_type": "display_data"
    }
   ],
   "source": [
    "inference()"
   ],
   "metadata": {
    "collapsed": false,
    "pycharm": {
     "name": "#%%\n"
    }
   }
  },
  {
   "cell_type": "code",
   "execution_count": 9,
   "outputs": [],
   "source": [],
   "metadata": {
    "collapsed": false,
    "pycharm": {
     "name": "#%%\n"
    }
   }
  }
 ],
 "metadata": {
  "kernelspec": {
   "display_name": "Python 3",
   "language": "python",
   "name": "python3"
  },
  "language_info": {
   "codemirror_mode": {
    "name": "ipython",
    "version": 2
   },
   "file_extension": ".py",
   "mimetype": "text/x-python",
   "name": "python",
   "nbconvert_exporter": "python",
   "pygments_lexer": "ipython2",
   "version": "2.7.6"
  }
 },
 "nbformat": 4,
 "nbformat_minor": 0
}